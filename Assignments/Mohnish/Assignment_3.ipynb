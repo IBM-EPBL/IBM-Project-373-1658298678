{
  "nbformat": 4,
  "nbformat_minor": 0,
  "metadata": {
    "colab": {
      "provenance": [],
      "collapsed_sections": []
    },
    "kernelspec": {
      "name": "python3",
      "display_name": "Python 3"
    },
    "language_info": {
      "name": "python"
    },
    "accelerator": "GPU"
  },
  "cells": [
    {
      "cell_type": "code",
      "source": [],
      "metadata": {
        "id": "x-a7tWI2TBTx"
      },
      "execution_count": null,
      "outputs": []
    },
    {
      "cell_type": "markdown",
      "source": [
        "# Import necessary Libraries"
      ],
      "metadata": {
        "id": "L9dTkJgWTZ2G"
      }
    },
    {
      "cell_type": "code",
      "execution_count": 1,
      "metadata": {
        "colab": {
          "base_uri": "https://localhost:8080/"
        },
        "id": "xqklWNWRQeL7",
        "outputId": "755320b7-2adf-4ecf-d82c-9c3b63d36308"
      },
      "outputs": [
        {
          "output_type": "stream",
          "name": "stdout",
          "text": [
            "Mounted at /content/drive\n"
          ]
        }
      ],
      "source": [
        "from google.colab import drive\n",
        "drive.mount('/content/drive')"
      ]
    },
    {
      "cell_type": "code",
      "source": [
        "pip install split-folders"
      ],
      "metadata": {
        "colab": {
          "base_uri": "https://localhost:8080/"
        },
        "id": "cNyk37eFR2aw",
        "outputId": "7e092bb2-0815-4f22-8c05-9be772dc02e8"
      },
      "execution_count": 5,
      "outputs": [
        {
          "output_type": "stream",
          "name": "stdout",
          "text": [
            "Looking in indexes: https://pypi.org/simple, https://us-python.pkg.dev/colab-wheels/public/simple/\n",
            "Collecting split-folders\n",
            "  Downloading split_folders-0.5.1-py3-none-any.whl (8.4 kB)\n",
            "Installing collected packages: split-folders\n",
            "Successfully installed split-folders-0.5.1\n"
          ]
        }
      ]
    },
    {
      "cell_type": "code",
      "source": [
        "from tensorflow.keras.preprocessing.image import ImageDataGenerator\n",
        "import splitfolders\n",
        "from tensorflow.keras.models import Sequential\n",
        "from tensorflow.keras.layers import Dense,Convolution2D,MaxPooling2D,Flatten\n",
        "import numpy as np\n",
        "from tensorflow.keras.models import load_model\n",
        "from tensorflow.keras.preprocessing import image"
      ],
      "metadata": {
        "id": "pvJ11H51RhhD"
      },
      "execution_count": 6,
      "outputs": []
    },
    {
      "cell_type": "markdown",
      "source": [
        "# Download Dataset, Split into Train and Test and Image Augmentation"
      ],
      "metadata": {
        "id": "a2uXA315TEpe"
      }
    },
    {
      "cell_type": "code",
      "source": [
        "input_dir='/content/drive/MyDrive/Colab Notebooks/Assignments/Mohnish/Dataset/flowers'"
      ],
      "metadata": {
        "id": "tHAqwRbFRanV"
      },
      "execution_count": 7,
      "outputs": []
    },
    {
      "cell_type": "code",
      "source": [
        "splitfolders.ratio(input_dir,output='/content/drive/MyDrive/Colab Notebooks/Assignments/Mohnish/Dataset',ratio=(.75,0,.25),group_prefix=None)"
      ],
      "metadata": {
        "colab": {
          "base_uri": "https://localhost:8080/"
        },
        "id": "tgv6k2UiSekt",
        "outputId": "17a37bd7-acca-4bad-c380-f050dfe62197"
      },
      "execution_count": 15,
      "outputs": [
        {
          "output_type": "stream",
          "name": "stderr",
          "text": [
            "Copying files: 4303 files [01:27, 49.46 files/s] \n"
          ]
        }
      ]
    },
    {
      "cell_type": "code",
      "source": [
        "train_datagenerator=ImageDataGenerator(rescale=1./255,zoom_range=0.4,horizontal_flip=True,vertical_flip=False, rotation_range=0.3, brightness_range=(0,0.5))\n",
        "test_datagenerator=ImageDataGenerator(rescale=1./255)"
      ],
      "metadata": {
        "id": "9MfXES_VStQh"
      },
      "execution_count": 11,
      "outputs": []
    },
    {
      "cell_type": "code",
      "source": [
        "x_train=train_datagenerator.flow_from_directory(r\"/content/drive/MyDrive/Colab Notebooks/Assignments/Mohnish/Dataset/train\",target_size=(64,64),class_mode='categorical',batch_size=16)"
      ],
      "metadata": {
        "colab": {
          "base_uri": "https://localhost:8080/"
        },
        "id": "dJQs5dEcUEsh",
        "outputId": "e8669de5-f8fd-406d-d730-9ef47d523a0a"
      },
      "execution_count": 16,
      "outputs": [
        {
          "output_type": "stream",
          "name": "stdout",
          "text": [
            "Found 3226 images belonging to 5 classes.\n"
          ]
        }
      ]
    },
    {
      "cell_type": "code",
      "source": [
        "x_test=test_datagenerator.flow_from_directory(r\"/content/drive/MyDrive/Colab Notebooks/Assignments/Mohnish/Dataset/test\",target_size=(64,64),class_mode='categorical',batch_size=16)"
      ],
      "metadata": {
        "colab": {
          "base_uri": "https://localhost:8080/"
        },
        "id": "lKNPesYsUKrU",
        "outputId": "c9b91708-8ad6-444e-f7e4-ad03c86fb9fc"
      },
      "execution_count": 17,
      "outputs": [
        {
          "output_type": "stream",
          "name": "stdout",
          "text": [
            "Found 1077 images belonging to 5 classes.\n"
          ]
        }
      ]
    },
    {
      "cell_type": "code",
      "source": [
        "x_train.class_indices"
      ],
      "metadata": {
        "colab": {
          "base_uri": "https://localhost:8080/"
        },
        "id": "zOeYFFegU8l-",
        "outputId": "86364aa4-0149-45d3-861f-5af7e9b06c0c"
      },
      "execution_count": 18,
      "outputs": [
        {
          "output_type": "execute_result",
          "data": {
            "text/plain": [
              "{'daisy': 0, 'dandelion': 1, 'rose': 2, 'sunflower': 3, 'tulip': 4}"
            ]
          },
          "metadata": {},
          "execution_count": 18
        }
      ]
    },
    {
      "cell_type": "code",
      "source": [
        "x_train.classes"
      ],
      "metadata": {
        "colab": {
          "base_uri": "https://localhost:8080/"
        },
        "id": "3BZ_IV35V6mz",
        "outputId": "4b32bf6d-222d-4588-9a63-4c8b845b7982"
      },
      "execution_count": 19,
      "outputs": [
        {
          "output_type": "execute_result",
          "data": {
            "text/plain": [
              "array([0, 0, 0, ..., 4, 4, 4], dtype=int32)"
            ]
          },
          "metadata": {},
          "execution_count": 19
        }
      ]
    },
    {
      "cell_type": "markdown",
      "source": [
        "# Create the Model and Adding Layers"
      ],
      "metadata": {
        "id": "kTs1e38aWCKo"
      }
    },
    {
      "cell_type": "code",
      "source": [
        "model = Sequential()\n",
        "\n",
        "# Convolutional and Max Pooling Layers\n",
        "model.add(Convolution2D(32,(3,3),input_shape=(64,64,3),activation='relu'))\n",
        "model.add(MaxPooling2D(pool_size=(2,2)))\n",
        "model.add(Convolution2D(64,(3,3),input_shape=(64,64,3),activation='relu'))\n",
        "model.add(MaxPooling2D(pool_size=(2,2)))\n",
        "model.add(Convolution2D(128,(3,3),input_shape=(64,64,3),activation='relu'))\n",
        "model.add(MaxPooling2D(pool_size=(2,2)))\n",
        "\n",
        "# Flatten Layer\n",
        "model.add(Flatten())\n",
        "\n",
        "# Dense Layer\n",
        "model.add(Dense(300,activation='relu'))\n",
        "\n",
        "#Output Layer\n",
        "model.add(Dense(5,activation='softmax'))\n",
        "\n",
        "model.summary()"
      ],
      "metadata": {
        "colab": {
          "base_uri": "https://localhost:8080/"
        },
        "id": "9CVqCQMmWF1R",
        "outputId": "549cc3b1-9eed-4654-db12-6fca28b1ffc3"
      },
      "execution_count": 20,
      "outputs": [
        {
          "output_type": "stream",
          "name": "stdout",
          "text": [
            "Model: \"sequential\"\n",
            "_________________________________________________________________\n",
            " Layer (type)                Output Shape              Param #   \n",
            "=================================================================\n",
            " conv2d (Conv2D)             (None, 62, 62, 32)        896       \n",
            "                                                                 \n",
            " max_pooling2d (MaxPooling2D  (None, 31, 31, 32)       0         \n",
            " )                                                               \n",
            "                                                                 \n",
            " conv2d_1 (Conv2D)           (None, 29, 29, 64)        18496     \n",
            "                                                                 \n",
            " max_pooling2d_1 (MaxPooling  (None, 14, 14, 64)       0         \n",
            " 2D)                                                             \n",
            "                                                                 \n",
            " conv2d_2 (Conv2D)           (None, 12, 12, 128)       73856     \n",
            "                                                                 \n",
            " max_pooling2d_2 (MaxPooling  (None, 6, 6, 128)        0         \n",
            " 2D)                                                             \n",
            "                                                                 \n",
            " flatten (Flatten)           (None, 4608)              0         \n",
            "                                                                 \n",
            " dense (Dense)               (None, 300)               1382700   \n",
            "                                                                 \n",
            " dense_1 (Dense)             (None, 5)                 1505      \n",
            "                                                                 \n",
            "=================================================================\n",
            "Total params: 1,477,453\n",
            "Trainable params: 1,477,453\n",
            "Non-trainable params: 0\n",
            "_________________________________________________________________\n"
          ]
        }
      ]
    },
    {
      "cell_type": "markdown",
      "source": [
        "# Compling the Model"
      ],
      "metadata": {
        "id": "H-8Yd05TXO92"
      }
    },
    {
      "cell_type": "code",
      "source": [
        "model.compile(loss='categorical_crossentropy',optimizer='adam',metrics=['accuracy'])"
      ],
      "metadata": {
        "id": "N2p20hk5XEUR"
      },
      "execution_count": 21,
      "outputs": []
    },
    {
      "cell_type": "markdown",
      "source": [
        "# Fitting and Training the Model"
      ],
      "metadata": {
        "id": "sjju3jQ_XX2S"
      }
    },
    {
      "cell_type": "code",
      "source": [
        "history = model.fit_generator(x_train,steps_per_epoch=len(x_train),validation_data=x_test,validation_steps=len(x_test),epochs=20)"
      ],
      "metadata": {
        "colab": {
          "base_uri": "https://localhost:8080/"
        },
        "id": "XWaRXsH4XMHZ",
        "outputId": "ab6ea5a5-ce70-4efd-faa3-fe01a0a811b6"
      },
      "execution_count": 22,
      "outputs": [
        {
          "output_type": "stream",
          "name": "stderr",
          "text": [
            "/usr/local/lib/python3.7/dist-packages/ipykernel_launcher.py:1: UserWarning: `Model.fit_generator` is deprecated and will be removed in a future version. Please use `Model.fit`, which supports generators.\n",
            "  \"\"\"Entry point for launching an IPython kernel.\n"
          ]
        },
        {
          "output_type": "stream",
          "name": "stdout",
          "text": [
            "Epoch 1/20\n",
            "202/202 [==============================] - 31s 104ms/step - loss: 1.3826 - accuracy: 0.3869 - val_loss: 1.7359 - val_accuracy: 0.4104\n",
            "Epoch 2/20\n",
            "202/202 [==============================] - 20s 101ms/step - loss: 1.2228 - accuracy: 0.4876 - val_loss: 1.5404 - val_accuracy: 0.5339\n",
            "Epoch 3/20\n",
            "202/202 [==============================] - 22s 110ms/step - loss: 1.1477 - accuracy: 0.5307 - val_loss: 1.4229 - val_accuracy: 0.5580\n",
            "Epoch 4/20\n",
            "202/202 [==============================] - 20s 101ms/step - loss: 1.0758 - accuracy: 0.5682 - val_loss: 1.2063 - val_accuracy: 0.6295\n",
            "Epoch 5/20\n",
            "202/202 [==============================] - 20s 101ms/step - loss: 1.0247 - accuracy: 0.5921 - val_loss: 1.0671 - val_accuracy: 0.6147\n",
            "Epoch 6/20\n",
            "202/202 [==============================] - 20s 100ms/step - loss: 0.9948 - accuracy: 0.6082 - val_loss: 1.1301 - val_accuracy: 0.6388\n",
            "Epoch 7/20\n",
            "202/202 [==============================] - 20s 101ms/step - loss: 0.9610 - accuracy: 0.6206 - val_loss: 0.9651 - val_accuracy: 0.6778\n",
            "Epoch 8/20\n",
            "202/202 [==============================] - 20s 101ms/step - loss: 0.9259 - accuracy: 0.6308 - val_loss: 0.9886 - val_accuracy: 0.6592\n",
            "Epoch 9/20\n",
            "202/202 [==============================] - 20s 101ms/step - loss: 0.8800 - accuracy: 0.6494 - val_loss: 1.3073 - val_accuracy: 0.6481\n",
            "Epoch 10/20\n",
            "202/202 [==============================] - 20s 101ms/step - loss: 0.8647 - accuracy: 0.6627 - val_loss: 1.3451 - val_accuracy: 0.5961\n",
            "Epoch 11/20\n",
            "202/202 [==============================] - 21s 103ms/step - loss: 0.8381 - accuracy: 0.6699 - val_loss: 1.1278 - val_accuracy: 0.6685\n",
            "Epoch 12/20\n",
            "202/202 [==============================] - 21s 103ms/step - loss: 0.8339 - accuracy: 0.6773 - val_loss: 1.0465 - val_accuracy: 0.6871\n",
            "Epoch 13/20\n",
            "202/202 [==============================] - 21s 106ms/step - loss: 0.8115 - accuracy: 0.6885 - val_loss: 0.9588 - val_accuracy: 0.6704\n",
            "Epoch 14/20\n",
            "202/202 [==============================] - 21s 102ms/step - loss: 0.7773 - accuracy: 0.6990 - val_loss: 1.2995 - val_accuracy: 0.6667\n",
            "Epoch 15/20\n",
            "202/202 [==============================] - 21s 103ms/step - loss: 0.7455 - accuracy: 0.7040 - val_loss: 1.1308 - val_accuracy: 0.6695\n",
            "Epoch 16/20\n",
            "202/202 [==============================] - 21s 102ms/step - loss: 0.7342 - accuracy: 0.7148 - val_loss: 1.0765 - val_accuracy: 0.6685\n",
            "Epoch 17/20\n",
            "202/202 [==============================] - 20s 101ms/step - loss: 0.6961 - accuracy: 0.7226 - val_loss: 1.0936 - val_accuracy: 0.6620\n",
            "Epoch 18/20\n",
            "202/202 [==============================] - 21s 102ms/step - loss: 0.7082 - accuracy: 0.7195 - val_loss: 1.1874 - val_accuracy: 0.6973\n",
            "Epoch 19/20\n",
            "202/202 [==============================] - 21s 102ms/step - loss: 0.6678 - accuracy: 0.7440 - val_loss: 1.3283 - val_accuracy: 0.7038\n",
            "Epoch 20/20\n",
            "202/202 [==============================] - 21s 102ms/step - loss: 0.6529 - accuracy: 0.7427 - val_loss: 1.2457 - val_accuracy: 0.6685\n"
          ]
        }
      ]
    },
    {
      "cell_type": "code",
      "source": [
        "model.save('/content/drive/MyDrive/Colab Notebooks/Assignments/Mohnish/Models/flowers.h5')"
      ],
      "metadata": {
        "id": "ar9AYnwOXhnC"
      },
      "execution_count": 23,
      "outputs": []
    },
    {
      "cell_type": "code",
      "source": [
        "import matplotlib.pyplot as plt"
      ],
      "metadata": {
        "id": "lX3TW8rJYg_6"
      },
      "execution_count": 26,
      "outputs": []
    },
    {
      "cell_type": "code",
      "source": [
        "plt.figure()\n",
        "plt.xlabel('Epochs')\n",
        "plt.ylabel('Validation Accuracy')\n",
        "plt.plot(history.epoch,history.history['val_accuracy'])"
      ],
      "metadata": {
        "colab": {
          "base_uri": "https://localhost:8080/",
          "height": 297
        },
        "id": "AquQUrBbZTue",
        "outputId": "1d8d2dc0-8875-41a7-d5b6-48f54fe4a448"
      },
      "execution_count": 30,
      "outputs": [
        {
          "output_type": "execute_result",
          "data": {
            "text/plain": [
              "[<matplotlib.lines.Line2D at 0x7f15b2089650>]"
            ]
          },
          "metadata": {},
          "execution_count": 30
        },
        {
          "output_type": "display_data",
          "data": {
            "text/plain": [
              "<Figure size 432x288 with 1 Axes>"
            ],
            "image/png": "[encoded data removed]"
          },
          "metadata": {
            "needs_background": "light"
          }
        }
      ]
    },
    {
      "cell_type": "code",
      "source": [
        "plt.figure()\n",
        "plt.xlabel('Epochs')\n",
        "plt.ylabel('Training Loss')\n",
        "plt.plot(history.epoch,history.history['loss'])"
      ],
      "metadata": {
        "colab": {
          "base_uri": "https://localhost:8080/",
          "height": 297
        },
        "id": "PQG6HCpGZhm1",
        "outputId": "b4037ce8-07bc-4fa6-dbd4-2faf1c158629"
      },
      "execution_count": 33,
      "outputs": [
        {
          "output_type": "execute_result",
          "data": {
            "text/plain": [
              "[<matplotlib.lines.Line2D at 0x7f15ae8b14d0>]"
            ]
          },
          "metadata": {},
          "execution_count": 33
        },
        {
          "output_type": "display_data",
          "data": {
            "text/plain": [
              "<Figure size 432x288 with 1 Axes>"
            ],
            "image/png": "[encoded data removed]"
          },
          "metadata": {
            "needs_background": "light"
          }
        }
      ]
    },
    {
      "cell_type": "markdown",
      "source": [
        "# Test the Model"
      ],
      "metadata": {
        "id": "BzkhBKKCaDEQ"
      }
    },
    {
      "cell_type": "code",
      "source": [
        "img=image.load_img(r\"/content/drive/MyDrive/Colab Notebooks/Assignments/Mohnish/Dataset/test/daisy/10466290366_cc72e33532.jpg\",target_size=(64,64))\n",
        "x=image.img_to_array(img)\n",
        "x=np.expand_dims(x,axis=0)\n",
        "y=np.argmax(model.predict(x),axis=1)\n",
        "x_train.class_indices\n",
        "index=['daisy','dandellion','rose','sunflower','tulip']\n",
        "index[y[0]]"
      ],
      "metadata": {
        "colab": {
          "base_uri": "https://localhost:8080/",
          "height": 35
        },
        "id": "8YkK6Kh4Z7dG",
        "outputId": "2008e3b1-419c-4d3e-e70e-27c016eed86a"
      },
      "execution_count": 37,
      "outputs": [
        {
          "output_type": "execute_result",
          "data": {
            "text/plain": [
              "'daisy'"
            ],
            "application/vnd.google.colaboratory.intrinsic+json": {
              "type": "string"
            }
          },
          "metadata": {},
          "execution_count": 37
        }
      ]
    },
    {
      "cell_type": "code",
      "source": [
        "img=image.load_img(r\"/content/drive/MyDrive/Colab Notebooks/Assignments/Mohnish/Dataset/test/tulip/133692329_c1150ed811_n.jpg\",target_size=(64,64))\n",
        "x=image.img_to_array(img)\n",
        "x=np.expand_dims(x,axis=0)\n",
        "y=np.argmax(model.predict(x),axis=1)\n",
        "x_train.class_indices\n",
        "index=['daisy','dandellion','rose','sunflower','tulip']\n",
        "index[y[0]]"
      ],
      "metadata": {
        "colab": {
          "base_uri": "https://localhost:8080/",
          "height": 35
        },
        "id": "c0Rako0GaThs",
        "outputId": "7e841ad7-8752-4741-a556-a4165690c6f7"
      },
      "execution_count": 38,
      "outputs": [
        {
          "output_type": "execute_result",
          "data": {
            "text/plain": [
              "'rose'"
            ],
            "application/vnd.google.colaboratory.intrinsic+json": {
              "type": "string"
            }
          },
          "metadata": {},
          "execution_count": 38
        }
      ]
    },
    {
      "cell_type": "code",
      "source": [
        "img=image.load_img(r\"/content/drive/MyDrive/Colab Notebooks/Assignments/Mohnish/Dataset/test/sunflower/12282924083_fb80aa17d4_n.jpg\",target_size=(64,64))\n",
        "x=image.img_to_array(img)\n",
        "x=np.expand_dims(x,axis=0)\n",
        "y=np.argmax(model.predict(x),axis=1)\n",
        "x_train.class_indices\n",
        "index=['daisy','dandellion','rose','sunflower','tulip']\n",
        "index[y[0]]"
      ],
      "metadata": {
        "colab": {
          "base_uri": "https://localhost:8080/",
          "height": 35
        },
        "id": "ThcSeh7dasG7",
        "outputId": "8f4c50ea-8a28-47ac-ef4a-05b9a86021e8"
      },
      "execution_count": 39,
      "outputs": [
        {
          "output_type": "execute_result",
          "data": {
            "text/plain": [
              "'sunflower'"
            ],
            "application/vnd.google.colaboratory.intrinsic+json": {
              "type": "string"
            }
          },
          "metadata": {},
          "execution_count": 39
        }
      ]
    },
    {
      "cell_type": "markdown",
      "source": [
        "# Assignment 3 completed by Mohnish S (2019504551) on Wednesday, October 5th 2022."
      ],
      "metadata": {
        "id": "eltv5xNia7rt"
      }
    },
    {
      "cell_type": "code",
      "source": [],
      "metadata": {
        "id": "zFQw4EsxbFEy"
      },
      "execution_count": null,
      "outputs": []
    }
  ]
}